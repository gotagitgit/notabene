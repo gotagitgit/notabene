{
 "cells": [
  {
   "attachments": {},
   "cell_type": "markdown",
   "metadata": {},
   "source": [
    "# **Optional**\n",
    "Optional value can be in one of two states: \n",
    "- Some (representing the presence of a value) \n",
    "- None (representing the lack of a value)\n",
    "\n",
    "*REFERENCES*\n",
    "- [Nuget](https://github.com/nlkl/Optional)"
   ]
  },
  {
   "cell_type": "code",
   "execution_count": null,
   "metadata": {
    "dotnet_interactive": {
     "language": "csharp"
    },
    "polyglot_notebook": {
     "kernelName": "csharp"
    },
    "vscode": {
     "languageId": "polyglot-notebook"
    }
   },
   "outputs": [],
   "source": [
    "#r \"nuget: Optional,*-*\""
   ]
  },
  {
   "attachments": {},
   "cell_type": "markdown",
   "metadata": {},
   "source": [
    "Let's say you have a model name Person"
   ]
  },
  {
   "cell_type": "code",
   "execution_count": null,
   "metadata": {
    "dotnet_interactive": {
     "language": "csharp"
    },
    "polyglot_notebook": {
     "kernelName": "csharp"
    },
    "vscode": {
     "languageId": "polyglot-notebook"
    }
   },
   "outputs": [],
   "source": [
    "public record Person( string Name, int Age );"
   ]
  },
  {
   "attachments": {},
   "cell_type": "markdown",
   "metadata": {},
   "source": [
    "Then you have method that returns a null value.  Another scenario is when you make an api call and return a null record.  This is prone to error because you'll need to check if the value is null everytime."
   ]
  },
  {
   "cell_type": "code",
   "execution_count": null,
   "metadata": {
    "dotnet_interactive": {
     "language": "csharp"
    },
    "polyglot_notebook": {
     "kernelName": "csharp"
    },
    "vscode": {
     "languageId": "polyglot-notebook"
    }
   },
   "outputs": [],
   "source": [
    "GetPerson();\n",
    "\n",
    "public void GetPerson()\n",
    "{\n",
    "    var person = CreatePerson();\n",
    "\n",
    "    if (person is null)\n",
    "        Console.WriteLine(\"Person is not born yet\");\n",
    "    else\n",
    "        Console.WriteLine(\"Hi my name is {person.Name}.  I'm {person.Age} years old\");\n",
    "}\n",
    "\n",
    "public Person CreatePerson()\n",
    "{\n",
    "    return null;\n",
    "}"
   ]
  },
  {
   "attachments": {},
   "cell_type": "markdown",
   "metadata": {},
   "source": [
    "Use strongly type values instead."
   ]
  },
  {
   "cell_type": "code",
   "execution_count": null,
   "metadata": {
    "dotnet_interactive": {
     "language": "csharp"
    },
    "polyglot_notebook": {
     "kernelName": "csharp"
    },
    "vscode": {
     "languageId": "polyglot-notebook"
    }
   },
   "outputs": [],
   "source": [
    "using Optional;\n",
    "\n",
    "GetPerson();\n",
    "\n",
    "public void GetPerson()\n",
    "{\n",
    "    var createdPerson = CreatePerson();\n",
    "\n",
    "    var person =  createdPerson.ValueOrFailure<Person>(\"Person is not born yet\");\n",
    "\n",
    "    Console.WriteLine($\"Hi my name is {person.Name}.  I'm {person.Age} years old\");\n",
    "}\n",
    "\n",
    "public Option<Person> CreatePerson()\n",
    "{\n",
    "    // return Option.None<Person>();\n",
    "\n",
    "    return Option.Some<Person>(new Person(\"Juan\", 12));\n",
    "}"
   ]
  },
  {
   "cell_type": "code",
   "execution_count": null,
   "metadata": {
    "dotnet_interactive": {
     "language": "csharp"
    },
    "polyglot_notebook": {
     "kernelName": "csharp"
    },
    "vscode": {
     "languageId": "polyglot-notebook"
    }
   },
   "outputs": [],
   "source": [
    "using Optional;\n",
    "using Optional.Unsafe;\n",
    "\n",
    "int? nullableWithoutValue = null;\n",
    "int? nullableWithValue = 2;\n",
    "\n",
    "var none = nullableWithoutValue.ToOption();\n",
    "var some = nullableWithValue.ToOption();\n",
    "\n",
    "Console.WriteLine($\"Does variable none has value : {none.HasValue}\");\n",
    "\n",
    "Console.WriteLine($\"Does variable some has value : {some.HasValue}\");\n",
    "\n",
    "var none2 = Option.None<int>();\n",
    "var some2 = Option.Some<int>(3);\n",
    "\n",
    "Console.WriteLine($\"Does variable none2 has value : {none2.HasValue}\");\n",
    "\n",
    "Console.WriteLine($\"Does variable some2 has value : {some2.HasValue}\");"
   ]
  },
  {
   "attachments": {},
   "cell_type": "markdown",
   "metadata": {},
   "source": [
    "Retrieving the value without safety"
   ]
  },
  {
   "cell_type": "code",
   "execution_count": null,
   "metadata": {
    "dotnet_interactive": {
     "language": "csharp"
    },
    "polyglot_notebook": {
     "kernelName": "csharp"
    },
    "vscode": {
     "languageId": "polyglot-notebook"
    }
   },
   "outputs": [],
   "source": [
    "using Optional.Unsafe;\n",
    "\n",
    "var defalutValue = none.ValueOrDefault<int>();\n",
    "var value = some.ValueOrFailure<int>(\"Value can't be null\");\n",
    "\n",
    "Console.WriteLine(defalutValue);\n",
    "\n",
    "Console.WriteLine(value);"
   ]
  }
 ],
 "metadata": {
  "language_info": {
   "name": "python"
  },
  "orig_nbformat": 4
 },
 "nbformat": 4,
 "nbformat_minor": 2
}
