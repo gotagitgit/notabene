{
 "cells": [
  {
   "attachments": {},
   "cell_type": "markdown",
   "metadata": {},
   "source": [
    "# **Records**\n",
    "- Records are distinct from classes in that record types use value-based equality.\n",
    "\n",
    "### Records vs. Class\n",
    "- Two variables of a record type are equal if the record type definitions are identical, and if for every field, the values in both records are equal\n",
    "- Two variables of a class type are equal if the objects referred to are the same class type and the variables refer to the same object\n",
    "\n",
    "### records class\n",
    "- is a reference type    \n",
    "\n",
    "### records struct\n",
    "- is a value type\n",
    "\n",
    "*REFERENCES*\n",
    "- [records](https://learn.microsoft.com/en-us/dotnet/csharp/whats-new/csharp-9)\n",
    "- [How to create records](https://learn.microsoft.com/en-us/dotnet/csharp/whats-new/tutorials/records)\n"
   ]
  },
  {
   "cell_type": "code",
   "execution_count": 13,
   "metadata": {
    "dotnet_interactive": {
     "language": "csharp"
    },
    "polyglot_notebook": {
     "kernelName": "csharp"
    }
   },
   "outputs": [
    {
     "name": "stdout",
     "output_type": "stream",
     "text": [
      "Submission#14+Person\n",
      "False\n"
     ]
    }
   ],
   "source": [
    "public class Person\n",
    "{\n",
    "    public Person(string firstName, string lastName)\n",
    "    {\n",
    "        FirstName = firstName;\n",
    "        LastName = lastName;\n",
    "    }\n",
    "\n",
    "    public string FirstName { get; }\n",
    "\n",
    "    public string LastName { get; }\n",
    "}\n",
    "\n",
    "var person1 = new Person(\"Juan\", \"Dela Cruz\");\n",
    "var person2 = new Person(\"Juan\", \"Dela Cruz\");\n",
    "\n",
    "Console.WriteLine(person1);\n",
    "\n",
    "Console.WriteLine(person1 == person2);"
   ]
  },
  {
   "cell_type": "code",
   "execution_count": 11,
   "metadata": {
    "dotnet_interactive": {
     "language": "csharp"
    },
    "polyglot_notebook": {
     "kernelName": "csharp"
    }
   },
   "outputs": [
    {
     "name": "stdout",
     "output_type": "stream",
     "text": [
      "Person { FirstName = Juan, LastName = Dela Cruz }\n",
      "True\n"
     ]
    }
   ],
   "source": [
    "public record Person(string FirstName, string LastName); // Positional Syntax support for records\n",
    "\n",
    "var person1 = new Person(\"Juan\", \"Dela Cruz\");\n",
    "var person2 = new Person(\"Juan\", \"Dela Cruz\");\n",
    "\n",
    "Console.WriteLine(person1);\n",
    "\n",
    "Console.WriteLine(person1 == person2);"
   ]
  },
  {
   "attachments": {},
   "cell_type": "markdown",
   "metadata": {},
   "source": [
    "# Immutability\n",
    "- you can set value of a property using with expression"
   ]
  },
  {
   "cell_type": "code",
   "execution_count": 3,
   "metadata": {
    "dotnet_interactive": {
     "language": "csharp"
    },
    "polyglot_notebook": {
     "kernelName": "csharp"
    }
   },
   "outputs": [
    {
     "name": "stdout",
     "output_type": "stream",
     "text": [
      "Person { FirstName = Juan, LastName = Dela Cruz }\n",
      "Person { FirstName = Juanita, LastName = Bonita }\n"
     ]
    }
   ],
   "source": [
    "public record Person(string FirstName, string LastName);\n",
    "\n",
    "var person1 = new Person(\"Juan\", \"Dela Cruz\");\n",
    "\n",
    "var person2 = person1 with { FirstName = \"Juanita\", LastName = \"Bonita\" }; // with epression\n",
    "\n",
    "Console.WriteLine(person1);\n",
    "\n",
    "Console.WriteLine(person2);"
   ]
  }
 ],
 "metadata": {
  "kernelspec": {
   "display_name": ".NET (C#)",
   "language": "C#",
   "name": ".net-csharp"
  },
  "language_info": {
   "name": "polyglot-notebook"
  },
  "polyglot_notebook": {
   "kernelInfo": {
    "defaultKernelName": "csharp",
    "items": [
     {
      "aliases": [],
      "languageName": "csharp",
      "name": "csharp"
     }
    ]
   }
  }
 },
 "nbformat": 4,
 "nbformat_minor": 2
}
